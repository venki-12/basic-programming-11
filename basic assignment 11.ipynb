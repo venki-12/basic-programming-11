{
 "cells": [
  {
   "cell_type": "code",
   "execution_count": 1,
   "metadata": {},
   "outputs": [],
   "source": [
    "#Write a Python program to find words which are greater than given length k?\n",
    "def string_k(k, str):\n",
    "    string = []\n",
    "    text = str.split(\" \")\n",
    "     \n",
    "    for x in text:\n",
    "        if len(x) > k:\n",
    "            string.append(x)\n",
    "    return string"
   ]
  },
  {
   "cell_type": "code",
   "execution_count": 2,
   "metadata": {},
   "outputs": [],
   "source": [
    "#Write a Python program for removing i-th character from a string?\n",
    "def remove(string, i): \n",
    "    for j in range(len(string)):\n",
    "        if j == i:\n",
    "            string = string.replace(string[i], \"\", 1)\n",
    "    return string"
   ]
  },
  {
   "cell_type": "code",
   "execution_count": 3,
   "metadata": {},
   "outputs": [],
   "source": [
    "#Write a Python program to split and join a string?\n",
    "def split_join_string(string):\n",
    "    list_string = string.split(' ')\n",
    "    print(f\"String after spliting {list_string}\")\n",
    "    string1 = ' %'.join(list_string)\n",
    "    return f\"String after joining {string1}\""
   ]
  },
  {
   "cell_type": "code",
   "execution_count": 4,
   "metadata": {},
   "outputs": [],
   "source": [
    "#Write a Python to check if a given string is binary string or not?\n",
    "def check(string) :\n",
    "    p = set(string)\n",
    "    s = {'0', '1'}\n",
    "    if s == p or p == {'0'} or p == {'1'}:\n",
    "        print(\"Yes string is binary\")\n",
    "    else :\n",
    "        print(\"No string is not binary\")"
   ]
  },
  {
   "cell_type": "code",
   "execution_count": 5,
   "metadata": {},
   "outputs": [],
   "source": [
    "#Write a Python program to find uncommon words from two Strings?\n",
    "def uncommon(a,b):\n",
    "    a=a.split()\n",
    "    b=b.split()\n",
    "    k=set(a).symmetric_difference(set(b))\n",
    "    return k"
   ]
  },
  {
   "cell_type": "code",
   "execution_count": 6,
   "metadata": {},
   "outputs": [],
   "source": [
    "#Write a Python to find all duplicate characters in string?\n",
    "def find_duplicate():\n",
    "    x =input(\"Enter a word = \")\n",
    "    for char in x :\n",
    "        counts=x.count(char)\n",
    "        if counts >= 2:\n",
    "            print(f\"(duplicate {char} appeared {counts} times\")\n",
    "        "
   ]
  },
  {
   "cell_type": "code",
   "execution_count": 7,
   "metadata": {},
   "outputs": [],
   "source": [
    "#Write a Python Program to check if a string contains any special character?\n",
    "def check(string):\n",
    "    regex = re.compile('[@_!#$%^&*()<>?/\\|}{~:]')   \n",
    "    if(regex.search(string) == None):\n",
    "        print(\"String does not have special character\")\n",
    "          \n",
    "    else:\n",
    "        print(\"String has special character.\")"
   ]
  },
  {
   "cell_type": "code",
   "execution_count": null,
   "metadata": {},
   "outputs": [],
   "source": []
  },
  {
   "cell_type": "code",
   "execution_count": null,
   "metadata": {},
   "outputs": [],
   "source": []
  }
 ],
 "metadata": {
  "kernelspec": {
   "display_name": "Python 3",
   "language": "python",
   "name": "python3"
  },
  "language_info": {
   "codemirror_mode": {
    "name": "ipython",
    "version": 3
   },
   "file_extension": ".py",
   "mimetype": "text/x-python",
   "name": "python",
   "nbconvert_exporter": "python",
   "pygments_lexer": "ipython3",
   "version": "3.8.5"
  }
 },
 "nbformat": 4,
 "nbformat_minor": 4
}
